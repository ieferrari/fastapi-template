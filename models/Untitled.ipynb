{
 "cells": [
  {
   "cell_type": "code",
   "execution_count": 119,
   "metadata": {},
   "outputs": [],
   "source": [
    "from sqlalchemy import create_engine\n",
    "from sqlalchemy.ext.declarative import declarative_base\n",
    "from sqlalchemy.orm import sessionmaker\n",
    "from sqlalchemy import Column, ForeignKey, Integer, String, Float, DateTime,\\\n",
    "    Boolean\n",
    "from sqlalchemy.orm import relationship\n",
    "\n",
    "from datetime import datetime\n",
    "\n",
    "\n",
    "SQLALCHEMY_DATABASE_URL = \"sqlite:///./sql_app.db\"\n",
    "\n",
    "\n",
    "engine = create_engine(SQLALCHEMY_DATABASE_URL,\n",
    "                       connect_args={\"check_same_thread\": False} # for sqlite\n",
    "                       )\n",
    "SessionLocal = sessionmaker(autocommit=False, autoflush=False, bind=engine)\n",
    "Base = declarative_base()\n",
    "\n",
    "\n",
    "\n",
    "\n",
    "from sqlalchemy.orm import Session\n",
    "from fastapi import Depends\n",
    "\n",
    "\n",
    "class User(Base):\n",
    "    __tablename__ = 'users'\n",
    "    id = Column(Integer, primary_key=True, index=True)\n",
    "    username = Column(String(20), index=True, unique=True)\n",
    "    email = Column(String, unique=True)\n",
    "    hashed_password = Column(String, nullable=False)\n",
    "    is_active = Column(Boolean, default=True)\n",
    "    is_superuser = Column(Boolean, default=False)\n",
    "    items = relationship(\"Item\", back_populates=\"owner\")\n",
    "\n",
    "    \n",
    "class Item(Base):\n",
    "    __tablename__ = \"items\"\n",
    "    id = Column(Integer, primary_key=True, index=True)\n",
    "    label = Column(String)\n",
    "    owner_id = Column(Integer, ForeignKey(User.id))\n",
    "    owner = relationship(\"User\", back_populates=\"items\")\n",
    "    \n",
    "    def __str__(self):\n",
    "        return 'Item id: '+str(self.id)\n",
    "\n",
    "Base.metadata.create_all(bind=engine)\n",
    "    \n",
    "def get_db():\n",
    "    db = SessionLocal()\n",
    "    try:\n",
    "        yield db\n",
    "    except Exception as e:\n",
    "        print('Error: ' + str(type(e)))\n",
    "    finally:\n",
    "        db.close()"
   ]
  },
  {
   "cell_type": "code",
   "execution_count": 120,
   "metadata": {},
   "outputs": [],
   "source": [
    "from typing import Any, Dict, Optional, Union\n",
    "\n",
    "def create_user(username: str, email:str, password: str ,db: Session)-> User:\n",
    "    fake_hashed_password = password+ 'fake_hashed'\n",
    "    db_user = User(username = username,\n",
    "                   email = email,\n",
    "                   hashed_password = password\n",
    "                   )\n",
    "    db.add(db_user)\n",
    "    db.commit()\n",
    "    db.refresh(db_user)\n",
    "    return db_user\n",
    "\n",
    "\n",
    "def get_user_with_username(username: str, db: Session)-> Optional[User]:\n",
    "    return db.query(User).filter(User.username == username).first()\n",
    "\n",
    "\n",
    "def get_user_with_email(email: str, db: Session)-> Optional[User]:\n",
    "    return db.query(User).filter(User.email == email).first()\n",
    "\n",
    "\n",
    "def set_active(username: str, state: bool, db: Session)-> bool:\n",
    "    try:\n",
    "        user = get_user_with_username(username, db)\n",
    "        user.is_active = state\n",
    "        db.commit()\n",
    "        return True\n",
    "    except:\n",
    "        return False\n",
    "\n",
    "    \n",
    "def set_superuser(username: str, state: bool, db: Session)-> bool:\n",
    "    try:\n",
    "        user = get_user_with_username(username, db)\n",
    "        user.is_superuser = state\n",
    "        db.commit()\n",
    "        return True\n",
    "    except:\n",
    "        return False\n",
    "\n",
    "    \n",
    "def is_active(username: str, db: Session)-> bool:\n",
    "    user = get_user_with_username(username, db)\n",
    "    return user.is_active\n",
    "\n",
    "\n",
    "def delete_user(username: str, db: Session)-> bool:\n",
    "    user = get_user_with_username(username, db)\n",
    "    try:\n",
    "        db.delete(user)\n",
    "        db.commit()\n",
    "        return True\n",
    "    except:\n",
    "        return False"
   ]
  },
  {
   "cell_type": "code",
   "execution_count": 87,
   "metadata": {},
   "outputs": [
    {
     "data": {
      "text/plain": [
       "('ju', 'ju', '12345', True, 7)"
      ]
     },
     "execution_count": 87,
     "metadata": {},
     "output_type": "execute_result"
    }
   ],
   "source": [
    "u1 = create_user(username = \"ju\", email=\"ju\", password=\"12345\", db=SessionLocal())\n",
    "u1.username, u1.email, u1.hashed_password, u1.is_active, u1.id"
   ]
  },
  {
   "cell_type": "code",
   "execution_count": null,
   "metadata": {},
   "outputs": [],
   "source": []
  },
  {
   "cell_type": "code",
   "execution_count": 89,
   "metadata": {},
   "outputs": [
    {
     "data": {
      "text/plain": [
       "<__main__.User at 0x7faf6adc4d50>"
      ]
     },
     "execution_count": 89,
     "metadata": {},
     "output_type": "execute_result"
    }
   ],
   "source": [
    "get_user_with_username(\"ju\", SessionLocal())\n"
   ]
  },
  {
   "cell_type": "code",
   "execution_count": 83,
   "metadata": {},
   "outputs": [
    {
     "data": {
      "text/plain": [
       "False"
      ]
     },
     "execution_count": 83,
     "metadata": {},
     "output_type": "execute_result"
    }
   ],
   "source": [
    "change_is_active_state(\"ju\", False, SessionLocal())\n",
    "u1 = get_user_with_username(\"ju\", SessionLocal())\n",
    "u1.is_active"
   ]
  },
  {
   "cell_type": "code",
   "execution_count": 86,
   "metadata": {},
   "outputs": [
    {
     "data": {
      "text/plain": [
       "True"
      ]
     },
     "execution_count": 86,
     "metadata": {},
     "output_type": "execute_result"
    }
   ],
   "source": [
    "delete_user(\"ju\", SessionLocal())"
   ]
  },
  {
   "cell_type": "code",
   "execution_count": 129,
   "metadata": {},
   "outputs": [],
   "source": [
    "def create_item(username: str, label:str,db: Session)-> Item:\n",
    "    user = get_user_with_username(username, db)\n",
    "    new_item = Item(label = label,\n",
    "                    owner_id = user.id,\n",
    "                   )\n",
    "    db.add(new_item)\n",
    "    db.commit()\n",
    "    db.refresh(new_item)\n",
    "    return new_item\n",
    "\n",
    "def get_item(item_id: int, db: Session)->Item:\n",
    "    return db.query(Item).filter(Item.id==item_id).first() \n",
    "\n",
    "def check_item_owner(item_id: int, owner_id: int, db: Session)-> bool:\n",
    "    item = db.query(Item).filter(Item.id == item_id).first()\n",
    "    return item.owner.id == owner_id\n",
    "\n",
    "\n",
    "def edit_item(item_id: str, label:str, db: Session)-> Item:\n",
    "    \n",
    "    pass\n",
    "\n",
    "\n",
    "def delete_item(item_id: int, db: Session)->bool:\n",
    "    item = db.query(Item).filter(Item.id == item_id).first()\n",
    "    try:\n",
    "        db.delete(item)\n",
    "        db.commit()\n",
    "        return True\n",
    "    except:\n",
    "        return False\n",
    "\n"
   ]
  },
  {
   "cell_type": "code",
   "execution_count": 130,
   "metadata": {},
   "outputs": [
    {
     "data": {
      "text/plain": [
       "<__main__.Item at 0x7faf6adc9950>"
      ]
     },
     "execution_count": 130,
     "metadata": {},
     "output_type": "execute_result"
    }
   ],
   "source": [
    "create_item(\"ju\", \"hol\", SessionLocal())"
   ]
  },
  {
   "cell_type": "code",
   "execution_count": 131,
   "metadata": {},
   "outputs": [
    {
     "data": {
      "text/plain": [
       "7"
      ]
     },
     "execution_count": 131,
     "metadata": {},
     "output_type": "execute_result"
    }
   ],
   "source": [
    "get_item(1,SessionLocal()).owner.id"
   ]
  },
  {
   "cell_type": "code",
   "execution_count": 132,
   "metadata": {},
   "outputs": [
    {
     "data": {
      "text/plain": [
       "True"
      ]
     },
     "execution_count": 132,
     "metadata": {},
     "output_type": "execute_result"
    }
   ],
   "source": [
    "check_item_owner(1,7, SessionLocal())"
   ]
  },
  {
   "cell_type": "code",
   "execution_count": 99,
   "metadata": {},
   "outputs": [
    {
     "data": {
      "text/plain": [
       "'hol'"
      ]
     },
     "execution_count": 99,
     "metadata": {},
     "output_type": "execute_result"
    }
   ],
   "source": [
    "u1 = get_user_with_username(\"ju\", SessionLocal())\n",
    "u1.items[1].label"
   ]
  },
  {
   "cell_type": "code",
   "execution_count": 28,
   "metadata": {},
   "outputs": [
    {
     "data": {
      "text/plain": [
       "('juan1', 'juan@gmail1.com', '12345', True)"
      ]
     },
     "execution_count": 28,
     "metadata": {},
     "output_type": "execute_result"
    }
   ],
   "source": [
    "u1.username, u1.email, u1.hashed_password, u1.is_active"
   ]
  },
  {
   "cell_type": "code",
   "execution_count": 38,
   "metadata": {},
   "outputs": [],
   "source": [
    "find_user_with_username(\"juans\", db)"
   ]
  },
  {
   "cell_type": "code",
   "execution_count": null,
   "metadata": {},
   "outputs": [],
   "source": [
    "def get_user_by_email(db: Session, email: str):\n",
    "    return db.query(User).filter(User.email == email).first()\n",
    "\n",
    "\n",
    "def get_user_by_username(db: Session, username: str):\n",
    "    return db.query(User).filter(User.username == username).first()\n",
    "\n",
    "\n",
    "def get_users(db: Session, skip: int = 0, limit: int = 100):\n",
    "    return db.query(User).offset(skip).limit(limit).all()\n",
    "\n",
    "\n",
    "\n",
    "def create_user(username: str, email:str, password: str ,db: Session)-> User:\n",
    "    fake_hashed_password = password+ 'fake_hashed'\n",
    "    db_user = User(username = username,\n",
    "                   email = email,\n",
    "                   hashed_password = password\n",
    "                   )\n",
    "    db.add(db_user)\n",
    "    db.commit()\n",
    "    db.refresh(db_user)\n",
    "    return db_user\n"
   ]
  }
 ],
 "metadata": {
  "kernelspec": {
   "display_name": "Python 3",
   "language": "python",
   "name": "python3"
  },
  "language_info": {
   "codemirror_mode": {
    "name": "ipython",
    "version": 3
   },
   "file_extension": ".py",
   "mimetype": "text/x-python",
   "name": "python",
   "nbconvert_exporter": "python",
   "pygments_lexer": "ipython3",
   "version": "3.7.9"
  },
  "varInspector": {
   "cols": {
    "lenName": 16,
    "lenType": 16,
    "lenVar": 40
   },
   "kernels_config": {
    "python": {
     "delete_cmd_postfix": "",
     "delete_cmd_prefix": "del ",
     "library": "var_list.py",
     "varRefreshCmd": "print(var_dic_list())"
    },
    "r": {
     "delete_cmd_postfix": ") ",
     "delete_cmd_prefix": "rm(",
     "library": "var_list.r",
     "varRefreshCmd": "cat(var_dic_list()) "
    }
   },
   "types_to_exclude": [
    "module",
    "function",
    "builtin_function_or_method",
    "instance",
    "_Feature"
   ],
   "window_display": false
  }
 },
 "nbformat": 4,
 "nbformat_minor": 4
}
